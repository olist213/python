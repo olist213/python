{
  "nbformat": 4,
  "nbformat_minor": 0,
  "metadata": {
    "colab": {
      "name": "function_实例.ipynb",
      "version": "0.3.2",
      "provenance": [],
      "collapsed_sections": [],
      "include_colab_link": true
    },
    "kernelspec": {
      "name": "python3",
      "display_name": "Python 3"
    }
  },
  "cells": [
    {
      "cell_type": "markdown",
      "metadata": {
        "id": "view-in-github",
        "colab_type": "text"
      },
      "source": [
        "<a href=\"https://colab.research.google.com/github/olist213/python/blob/master/function_%E5%AE%9E%E4%BE%8B.ipynb\" target=\"_parent\"><img src=\"https://colab.research.google.com/assets/colab-badge.svg\" alt=\"Open In Colab\"/></a>"
      ]
    },
    {
      "metadata": {
        "id": "Fq-Yr7MSyBDi",
        "colab_type": "code",
        "outputId": "251c126b-5ccf-4eb8-8a8c-41317f7f67e1",
        "colab": {
          "base_uri": "https://localhost:8080/",
          "height": 235
        }
      },
      "cell_type": "code",
      "source": [
        "\n",
        "# 这是一个猜数字游戏\n",
        "\n",
        "import random\n",
        "\n",
        "sercrtNum = random.randint(1,20)\n",
        "print('数字范围在1-20之间，请大家猜猜，猜中有奖')\n",
        "\n",
        "for num in range(1,7):\n",
        "  print('开始')\n",
        "  guess = int(input())\n",
        "  \n",
        "  if guess < sercrtNum:\n",
        "    print('猜解的数字太小了哦')\n",
        "  elif guess > sercrtNum:\n",
        "    print('猜解的数字太大了哦')\n",
        "  else:\n",
        "    break # 如果该猜测即不大于，也不小于该数字，那么就是等于，则跳出for循环\n",
        "    \n",
        "if guess == sercrtNum:\n",
        "  print('不错哦，很棒；' + '猜解了' + str(num) + '次猜解成功!')\n",
        "else:\n",
        "  print('NOPE,最终的答案为' + str(sercrtNum))\n",
        "\n",
        "\n"
      ],
      "execution_count": 0,
      "outputs": [
        {
          "output_type": "stream",
          "text": [
            "数字范围在1-20之间，请大家猜猜，猜中有奖\n",
            "开始\n",
            "3\n",
            "猜解的数字太小了哦\n",
            "开始\n",
            "8\n",
            "猜解的数字太小了哦\n",
            "开始\n",
            "12\n",
            "猜解的数字太大了哦\n",
            "开始\n",
            "10\n",
            "不错哦，很棒；猜解了4次猜解成功!\n"
          ],
          "name": "stdout"
        }
      ]
    },
    {
      "metadata": {
        "id": "-dGh7mlp1EFD",
        "colab_type": "text"
      },
      "cell_type": "markdown",
      "source": [
        "这是一个猜解数字的游戏，也有利于自己练手。"
      ]
    },
    {
      "metadata": {
        "id": "H-QrfFam2I0z",
        "colab_type": "text"
      },
      "cell_type": "markdown",
      "source": [
        "1．为什么在程序中加入函数会有好处？\n",
        "\n",
        "**答：减少代码重复，调试简单**\n",
        "\n",
        "2．函数中的代码何时执行：在函数被定义时，还是在函数被调用时？\n",
        "\n",
        "**答：函数被调用时**\n",
        "\n",
        "3．什么语句创建一个函数？\n",
        "\n",
        "**答：利用def 语句创建一个函数**\n",
        "\n",
        "4．一个函数和一次函数调用有什么区别？\n",
        "\n",
        "**答：一个函数可以被重复调用，一次函数调用只是执行了一次函数代码**\n",
        "\n",
        "5．Python程序中有多少全局作用域？有多少局部作用域？\n",
        "\n",
        "**答：各一个**\n",
        "\n",
        "6．当函数调用返回时，局部作用域中的变量发生了什么？\n",
        "\n",
        "**答：销毁**\n",
        "\n",
        "7．什么是返回值？返回值可以作为表达式的一部分吗？\n",
        "\n",
        "**答：函数的执行结果，可以**\n",
        "\n",
        "8．如果函数没有返回语句，对它调用的返回值是什么？\n",
        "\n",
        "答:None\n",
        "**加粗文字**\n",
        "\n",
        "9．如何强制函数中的一个变量指的是全局变量？\n",
        "\n",
        "**答：Global**\n",
        "\n",
        "10．None的数据类型是什么？\n",
        "\n",
        "**答：None Type 或 null对象**\n",
        "\n",
        "11．import areallyourpetsnamederic语句做了什么？\n",
        "\n",
        "**答：导入一个python模块**\n",
        "\n",
        "12．如果在名为spam的模块中，有一个名为bacon()的函数，在引入spam后，如何调用它？\n",
        "\n",
        "**答：spam.bacon()**\n",
        "\n",
        "\n",
        "13．如何防止程序在遇到错误时崩溃？\n",
        "\n",
        "**答：利用try ... except模块**\n",
        "\n",
        "14．try子句中发生了什么？except子句中发生了什么？\n",
        "\n",
        "**答：try中执行语句代码，except中收集错误信息**"
      ]
    },
    {
      "metadata": {
        "id": "qn3BFpj40-7s",
        "colab_type": "code",
        "outputId": "2ea5d09a-d2fd-4e9a-82f9-5a2cb565fce7",
        "colab": {
          "base_uri": "https://localhost:8080/",
          "height": 151
        }
      },
      "cell_type": "code",
      "source": [
        "# collatz函数\n",
        "\n",
        "def collatz(num):\n",
        "  \n",
        "  while(num != 1):\n",
        "\n",
        "\n",
        "    # 如果数字为偶数\n",
        "    if num % 2 == 0:\n",
        "      num = num // 2\n",
        "      print(num)\n",
        "      if num == 1:\n",
        "        break\n",
        "\n",
        "      # 如果数字为基数\n",
        "    if num % 2 == 1:\n",
        "      num = 3 * num + 1\n",
        "      print(num)\n",
        "      \n",
        "  \n",
        "  \n",
        "try:\n",
        "  num = int(input())\n",
        "\n",
        "  collatz(num)\n",
        "except:\n",
        "  print('请输入一个数字')\n"
      ],
      "execution_count": 0,
      "outputs": [
        {
          "output_type": "stream",
          "text": [
            "3\n",
            "10\n",
            "5\n",
            "16\n",
            "8\n",
            "4\n",
            "2\n",
            "1\n"
          ],
          "name": "stdout"
        }
      ]
    },
    {
      "metadata": {
        "id": "anWbd1huBs2v",
        "colab_type": "text"
      },
      "cell_type": "markdown",
      "source": [
        "collatz函数\n",
        "\n",
        "输入一个数字，通过不断调用collatz()函数，直到函数返回值为1\n",
        "\n",
        "collatz函数有一个num参数，如果num为偶数，则返回并打印num //2，如果num为奇数，则返回并打印3 * num +1\n"
      ]
    }
  ]
}